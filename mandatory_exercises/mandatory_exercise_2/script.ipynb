{
 "cells": [
  {
   "cell_type": "code",
   "execution_count": null,
   "metadata": {},
   "outputs": [],
   "source": [
    "from skimage import io, color, filters, measure\n",
    "from skimage.morphology import area_closing, area_opening, dilation\n",
    "from skimage.feature import peak_local_max\n",
    "from skimage.segmentation import watershed\n",
    "import matplotlib.pyplot as plt\n",
    "import numpy as np\n",
    "from scipy import ndimage as ndi\n",
    "from matplotlib.patches import Rectangle"
   ]
  },
  {
   "cell_type": "code",
   "execution_count": null,
   "metadata": {},
   "outputs": [],
   "source": [
    "def threshold(image, th):\n",
    "    shape = np.shape(image)\n",
    "    binarised = np.zeros(shape)\n",
    "\n",
    "    if len(shape) == 3:\n",
    "        image = image.mean(axis=2)  \n",
    "    elif len(shape) > 3:\n",
    "        raise ValueError('Bildet må være 2D eller ha tre kanaler (RGB).')\n",
    "    for i, row in enumerate(image):\n",
    "        for j, value in enumerate(row):\n",
    "            binarised[i][j] = 0 if value >= th else 1\n",
    "    return binarised"
   ]
  },
  {
   "cell_type": "code",
   "execution_count": null,
   "metadata": {},
   "outputs": [
    {
     "ename": "",
     "evalue": "",
     "output_type": "error",
     "traceback": [
      "\u001b[1;31mRunning cells with '/opt/homebrew/bin/python3' requires the ipykernel package.\n",
      "\u001b[1;31mRun the following command to install 'ipykernel' into the Python environment. \n",
      "\u001b[1;31mCommand: '/opt/homebrew/bin/python3 -m pip install ipykernel -U --user --force-reinstall'"
     ]
    }
   ],
   "source": [
    "#viser originalbildet\n",
    "ImgPath = 'IMG_2754_nonstop_alltogether.JPG'\n",
    "original_image = io.imread(ImgPath)\n",
    "cut_image = original_image[200:3500, 300:5500]\n",
    "plt.figure()\n",
    "plt.title(\"Original Image\")\n",
    "plt.imshow(original_image)"
   ]
  },
  {
   "cell_type": "code",
   "execution_count": null,
   "metadata": {},
   "outputs": [
    {
     "ename": "",
     "evalue": "",
     "output_type": "error",
     "traceback": [
      "\u001b[1;31mRunning cells with '/opt/homebrew/bin/python3' requires the ipykernel package.\n",
      "\u001b[1;31mRun the following command to install 'ipykernel' into the Python environment. \n",
      "\u001b[1;31mCommand: '/opt/homebrew/bin/python3 -m pip install ipykernel -U --user --force-reinstall'"
     ]
    }
   ],
   "source": [
    "# Leser bildet som gråtone og beskjærer et område for å fokusere på objektene og forhindrer kantene forstryrrer\n",
    "image = io.imread(ImgPath, as_gray=True)\n",
    "gray_image = image[200:3500, 300:5500]\n",
    "plt.figure()\n",
    "plt.title(\"Grayscale Image\")\n",
    "plt.imshow(gray_image, cmap='gray')"
   ]
  },
  {
   "cell_type": "code",
   "execution_count": null,
   "metadata": {},
   "outputs": [],
   "source": [
    "#bruker threshold_triangle for å finne en god terskelverdi for å binarisere bildet\n",
    "triangle_threshold = filters.threshold_triangle(gray_image)\n",
    "binary_image = threshold(gray_image, triangle_threshold)\n",
    "plt.figure()\n",
    "plt.title(\"Binary Image\")\n",
    "plt.imshow(binary_image, cmap='gray')"
   ]
  },
  {
   "cell_type": "code",
   "execution_count": null,
   "metadata": {},
   "outputs": [],
   "source": [
    "#bruker closing og opening for å fjerne små hull og objekter, relativit stor verdi for å fjerne litt større objekter også\n",
    "closed_image = area_closing(binary_image, 13000)\n",
    "final_image = area_opening(closed_image, 12000)\n",
    "plt.figure()\n",
    "plt.title(\"After Area Opening and Closing\")\n",
    "plt.imshow(final_image, cmap='gray')"
   ]
  },
  {
   "cell_type": "code",
   "execution_count": null,
   "metadata": {},
   "outputs": [],
   "source": [
    "#finner distansen mellom objektene\n",
    "distance = ndi.distance_transform_edt(final_image)\n",
    "plt.figure()\n",
    "plt.title(\"Distance Transform\")\n",
    "plt.imshow(distance)\n",
    "plt.colorbar()"
   ]
  },
  {
   "cell_type": "code",
   "execution_count": null,
   "metadata": {},
   "outputs": [],
   "source": [
    "#bruker watershed for å segmentere objektene\n",
    "l_max = peak_local_max(distance, footprint=np.ones((30, 30)), labels=final_image.astype(int), min_distance=150)\n",
    "l_max_mask = np.zeros_like(distance, dtype=bool)\n",
    "l_max_mask[tuple(l_max.T)] = True\n",
    "\n",
    "\n",
    "\n",
    "#definerer markører og bruker watershed for å segmentere objektene\n",
    "markers, _ = ndi.label(l_max_mask)\n",
    "labels = watershed(-distance, markers, mask=final_image, watershed_line=True)\n",
    "plt.figure()\n",
    "plt.title(\"Watershed Segmentation\")\n",
    "plt.imshow(labels)\n",
    "plt.colorbar()\n",
    "print(f'Amount of objects = {len(np.unique(labels))}')"
   ]
  },
  {
   "cell_type": "code",
   "execution_count": null,
   "metadata": {},
   "outputs": [],
   "source": [
    "#finner egenskapene til objektene\n",
    "props = measure.regionprops(labels)\n",
    "print(f'objects: {len(props)}')\n",
    "\n",
    "#filterer ut objekter som ikke er relevante med tanken på størrelse og form\n",
    "filtered_regions = [prop for prop in props if prop.eccentricity >= 0.30 and prop.major_axis_length >= 330]\n",
    "highlighted_objects = dilation(final_image, footprint=np.ones((2, 2)))\n",
    "for item in filtered_regions:\n",
    "    for coord in item.coords:\n",
    "        highlighted_objects[coord[0], coord[1]] = 3\n",
    "plt.figure()\n",
    "plt.title(\"Dilated Image with Objects Highlighted\")\n",
    "plt.imshow(highlighted_objects)"
   ]
  },
  {
   "cell_type": "code",
   "execution_count": null,
   "metadata": {},
   "outputs": [],
   "source": [
    "#visualiserer objektene med og plasserer rektangler rundt dem\n",
    "rectangles = []\n",
    "for item in filtered_regions:\n",
    "    X_values = [coord[0] for coord in item.coords]\n",
    "    Y_values = [coord[1] for coord in item.coords]\n",
    "    min_x, max_x = min(X_values), max(X_values)\n",
    "    min_y, max_y = min(Y_values), max(Y_values)\n",
    "    rectangles.append((min_y, min_x, max_y - min_y, max_x - min_x))\n",
    "\n",
    "plt.figure()\n",
    "plt.title(\"original image with rectangles\")\n",
    "plt.imshow(cut_image)\n",
    "for rectangle in rectangles:\n",
    "    plt.gca().add_patch(Rectangle((rectangle[0], rectangle[1]), rectangle[2], rectangle[3], edgecolor='red', facecolor='none', lw=1))\n",
    "plt.show()"
   ]
  }
 ],
 "metadata": {
  "kernelspec": {
   "display_name": "Python 3",
   "language": "python",
   "name": "python3"
  },
  "language_info": {
   "name": "python",
   "version": "3.13.0"
  },
  "orig_nbformat": 4
 },
 "nbformat": 4,
 "nbformat_minor": 2
}
